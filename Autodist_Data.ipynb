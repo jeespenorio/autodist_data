{
 "cells": [
  {
   "cell_type": "code",
   "execution_count": 2,
   "id": "486d3e46-81b4-4aa8-ac13-8949a2a06b54",
   "metadata": {
    "tags": []
   },
   "outputs": [
    {
     "name": "stdout",
     "output_type": "stream",
     "text": [
      "         MAKE       MODEL        YEAR  \\\n",
      "0  ARCTIC CAT  ALL MODELS  1991- 2007   \n",
      "\n",
      "                                     VENDOR NOTES  AD ITEM        NI#  OEM  \\\n",
      "0  INCL.: 4 PCS, MATERIAL: NYLON, FOR SINGLE/DUAL  LP05920  05-146-03  N/A   \n",
      "\n",
      "  CATEGORY  \n",
      "0      NaN  \n"
     ]
    }
   ],
   "source": [
    "# IMPORTING DATA FRAMES\n",
    "\n",
    "import pandas as pd\n",
    "data = {\n",
    "    'MAKE':['ARCTIC CAT'],\n",
    "    'MODEL': ['ALL MODELS'],\n",
    "    'YEAR': ['1991- 2007'],\n",
    "    'VENDOR NOTES': ['INCL.: 4 PCS, MATERIAL: NYLON, FOR SINGLE/DUAL'],\n",
    "    'AD ITEM': ['LP05920'],\n",
    "    'NI#': ['05-146-03'],\n",
    "    'OEM':[ 'N/A']\n",
    "}\n",
    "\n",
    "\n",
    "#CREATE DATAFRAME\n",
    "\n",
    "df = pd.DataFrame(data)\n",
    "\n",
    "#CATEGORIZING 'ARTIC CAT' AS A CATEGORY\n",
    "\n",
    "df.loc[df['MAKE'] == 'ARTIC CAT', 'CATEGORY'] = 'ARTIC CAT'\n",
    "\n",
    "#Display Dataframe\n",
    "\n",
    "print(df)"
   ]
  },
  {
   "cell_type": "code",
   "execution_count": 6,
   "id": "668c41c9-c66f-4b94-9147-bd9b9d39c655",
   "metadata": {
    "tags": []
   },
   "outputs": [
    {
     "name": "stdout",
     "output_type": "stream",
     "text": [
      "   MAKE MODEL  YEAR VENDOR NOTES AD ITEM  NI#  OEM\n",
      "0   NaN   NaN  1991          NaN     NaN  NaN  NaN\n",
      "1   NaN   NaN  1992          NaN     NaN  NaN  NaN\n",
      "2   NaN   NaN  1993          NaN     NaN  NaN  NaN\n",
      "3   NaN   NaN  1994          NaN     NaN  NaN  NaN\n",
      "4   NaN   NaN  1995          NaN     NaN  NaN  NaN\n",
      "5   NaN   NaN  1996          NaN     NaN  NaN  NaN\n",
      "6   NaN   NaN  1997          NaN     NaN  NaN  NaN\n",
      "7   NaN   NaN  1998          NaN     NaN  NaN  NaN\n",
      "8   NaN   NaN  1999          NaN     NaN  NaN  NaN\n",
      "9   NaN   NaN  2000          NaN     NaN  NaN  NaN\n",
      "10  NaN   NaN  2001          NaN     NaN  NaN  NaN\n",
      "11  NaN   NaN  2002          NaN     NaN  NaN  NaN\n",
      "12  NaN   NaN  2003          NaN     NaN  NaN  NaN\n",
      "13  NaN   NaN  2004          NaN     NaN  NaN  NaN\n",
      "14  NaN   NaN  2005          NaN     NaN  NaN  NaN\n",
      "15  NaN   NaN  2006          NaN     NaN  NaN  NaN\n"
     ]
    }
   ],
   "source": [
    "# IMPORTING DATA FRAMES\n",
    "\n",
    "import pandas as pd\n",
    "data = {\n",
    "    'MAKE':['ARCTIC CAT'],\n",
    "    'MODEL': ['ALL MODELS'],\n",
    "    'YEAR': ['1991- 2007'],\n",
    "    'VENDOR NOTES': ['INCL.: 4 PCS, MATERIAL: NYLON, FOR SINGLE/DUAL'],\n",
    "    'AD ITEM': ['LP05920'],\n",
    "    'NI#': ['05-146-03'],\n",
    "    'OEM':[ 'N/A']\n",
    "}\n",
    "\n",
    "\n",
    "#CREATE DATAFRAME\n",
    "\n",
    "df = pd.DataFrame(data)\n",
    "\n",
    "#CATEGORIZING 'ARTIC CAT' AS A CATEGORY\n",
    "#df.loc[df['MAKE'] == 'ARTIC CAT', 'CATEGORY'] = 'ARTIC CAT'\n",
    "#Display Dataframe\n",
    "\n",
    "#expand dataframe from 1991-2007\n",
    "years_range = [str(year) for year in range(1991, 2007)] #will generate lisft of years from 91 - 07\n",
    "expanded_df = pd.DataFrame({'YEAR': years_range}) #creating dataframes with the years\n",
    "\n",
    "#Merge the expanded Dataframe with the original DataFrame\n",
    "merged_df = pd.merge(df, expanded_df, on='YEAR', how='right')\n",
    "\n",
    "#CATEGORIZING 'ARTIC CAT' AS A CATEGORY\n",
    "merge_df.loc[merged_df['MODEL'] == 'ARTIC CAT', 'CATEGORY'] ='ARTIC CAT'\n",
    "\n",
    "#Display the DataFrame\n",
    "\n",
    "print(merged_df)\n"
   ]
  },
  {
   "cell_type": "code",
   "execution_count": 15,
   "id": "dc0f5b98-70f3-406a-9a52-31d9bcc9a359",
   "metadata": {
    "tags": []
   },
   "outputs": [
    {
     "name": "stdout",
     "output_type": "stream",
     "text": [
      "          MAKE  YEAR                                    VENDOR NOTES  AD ITEM  \\\n",
      "0   ARCTIC CAT  1991  INCL.: 4 PCS, MATERIAL: NYLON, FOR SINGLE/DUAL  LP05920   \n",
      "1   ARCTIC CAT  1992  INCL.: 4 PCS, MATERIAL: NYLON, FOR SINGLE/DUAL  LP05920   \n",
      "2   ARCTIC CAT  1993  INCL.: 4 PCS, MATERIAL: NYLON, FOR SINGLE/DUAL  LP05920   \n",
      "3   ARCTIC CAT  1994  INCL.: 4 PCS, MATERIAL: NYLON, FOR SINGLE/DUAL  LP05920   \n",
      "4   ARCTIC CAT  1995  INCL.: 4 PCS, MATERIAL: NYLON, FOR SINGLE/DUAL  LP05920   \n",
      "5   ARCTIC CAT  1996  INCL.: 4 PCS, MATERIAL: NYLON, FOR SINGLE/DUAL  LP05920   \n",
      "6   ARCTIC CAT  1997  INCL.: 4 PCS, MATERIAL: NYLON, FOR SINGLE/DUAL  LP05920   \n",
      "7   ARCTIC CAT  1998  INCL.: 4 PCS, MATERIAL: NYLON, FOR SINGLE/DUAL  LP05920   \n",
      "8   ARCTIC CAT  1999  INCL.: 4 PCS, MATERIAL: NYLON, FOR SINGLE/DUAL  LP05920   \n",
      "9   ARCTIC CAT  2000  INCL.: 4 PCS, MATERIAL: NYLON, FOR SINGLE/DUAL  LP05920   \n",
      "10  ARCTIC CAT  2001  INCL.: 4 PCS, MATERIAL: NYLON, FOR SINGLE/DUAL  LP05920   \n",
      "11  ARCTIC CAT  2002  INCL.: 4 PCS, MATERIAL: NYLON, FOR SINGLE/DUAL  LP05920   \n",
      "12  ARCTIC CAT  2003  INCL.: 4 PCS, MATERIAL: NYLON, FOR SINGLE/DUAL  LP05920   \n",
      "13  ARCTIC CAT  2004  INCL.: 4 PCS, MATERIAL: NYLON, FOR SINGLE/DUAL  LP05920   \n",
      "14  ARCTIC CAT  2005  INCL.: 4 PCS, MATERIAL: NYLON, FOR SINGLE/DUAL  LP05920   \n",
      "15  ARCTIC CAT  2006  INCL.: 4 PCS, MATERIAL: NYLON, FOR SINGLE/DUAL  LP05920   \n",
      "16  ARCTIC CAT  2007  INCL.: 4 PCS, MATERIAL: NYLON, FOR SINGLE/DUAL  LP05920   \n",
      "\n",
      "          NI#  OEM       MODEL  \n",
      "0   05-146-03  N/A  ALL MODELS  \n",
      "1   05-146-03  N/A  ALL MODELS  \n",
      "2   05-146-03  N/A  ALL MODELS  \n",
      "3   05-146-03  N/A  ALL MODELS  \n",
      "4   05-146-03  N/A  ALL MODELS  \n",
      "5   05-146-03  N/A  ALL MODELS  \n",
      "6   05-146-03  N/A  ALL MODELS  \n",
      "7   05-146-03  N/A  ALL MODELS  \n",
      "8   05-146-03  N/A  ALL MODELS  \n",
      "9   05-146-03  N/A  ALL MODELS  \n",
      "10  05-146-03  N/A  ALL MODELS  \n",
      "11  05-146-03  N/A  ALL MODELS  \n",
      "12  05-146-03  N/A  ALL MODELS  \n",
      "13  05-146-03  N/A  ALL MODELS  \n",
      "14  05-146-03  N/A  ALL MODELS  \n",
      "15  05-146-03  N/A  ALL MODELS  \n",
      "16  05-146-03  N/A  ALL MODELS  \n"
     ]
    }
   ],
   "source": [
    "import pandas as pd\n",
    "\n",
    "data = {\n",
    "    'MAKE': ['ARCTIC CAT'],\n",
    "    'MODEL': ['ALL MODELS'],\n",
    "    'YEAR': ['1991-2007'],\n",
    "    'VENDOR NOTES': ['INCL.: 4 PCS, MATERIAL: NYLON, FOR SINGLE/DUAL'],\n",
    "    'AD ITEM': ['LP05920'],\n",
    "    'NI#': ['05-146-03'],\n",
    "    'OEM': ['N/A']\n",
    "}\n",
    "\n",
    "df = pd.DataFrame(data)\n",
    "\n",
    "years_range = [str(year) for year in range(1991, 2008)]  # Adjusted range from 1991 to 2007 inclusive\n",
    "expanded_df = pd.DataFrame(columns=['MAKE', 'YEAR', 'VENDOR NOTES', 'AD ITEM', 'NI#', 'OEM'])\n",
    "\n",
    "# Expand the data for each year in the range for 'ARCTIC CAT' make\n",
    "for year in years_range:\n",
    "    temp_df = df.copy()  # Copy original data\n",
    "    temp_df['YEAR'] = year  # Update year for each row to the current year in the range\n",
    "    expanded_df = pd.concat([expanded_df, temp_df], ignore_index=True)\n",
    "\n",
    "print(expanded_df)\n"
   ]
  },
  {
   "cell_type": "code",
   "execution_count": null,
   "id": "d6d6337a-a441-4a00-8fdc-60e1fe871859",
   "metadata": {},
   "outputs": [],
   "source": []
  }
 ],
 "metadata": {
  "kernelspec": {
   "display_name": "Python 3 (ipykernel)",
   "language": "python",
   "name": "python3"
  },
  "language_info": {
   "codemirror_mode": {
    "name": "ipython",
    "version": 3
   },
   "file_extension": ".py",
   "mimetype": "text/x-python",
   "name": "python",
   "nbconvert_exporter": "python",
   "pygments_lexer": "ipython3",
   "version": "3.11.4"
  }
 },
 "nbformat": 4,
 "nbformat_minor": 5
}
